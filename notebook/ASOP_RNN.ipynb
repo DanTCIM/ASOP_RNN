{
 "cells": [
  {
   "cell_type": "markdown",
   "id": "73123506-696e-4f26-8646-ca63747e50b8",
   "metadata": {},
   "source": [
    "# 1. Introduction to ASOP Dreaming Language Model\n",
    "Welcome to the ASOP Dreaming Language Model! This code creates a recurrent neural network (RNN) that generates dreamy and illusional Actuarial Standards of Practice. \n",
    "\n",
    "This code is for fun and educational purposes only. If an alien had access to the ASOP documents and learned from them, it must have produced something similar to this model!\n",
    "\n",
    "The network predicts the next character in a sequence by analyzing the previous 40 characters as input. Think of it like carrying on a conversation where you guess the next word based on the previous 40 words.\n",
    "\n",
    "It is trained on a small dataset of 800,000 characters (about 1MB) extracted from \"Actuarial Standards of Practice\" (ASOP) by the Actuarial Standards Board. The data was divided into \"windows\" of 41 characters for training: 40 for input and 1 for the desired output (the next character).\n",
    "\n",
    "Although a relatively small neural network, it contains around 3 million parameters. It took about 5 hours to train on an Apple M2 Pro chip going through 21 epochs.\n",
    "\n",
    "A large portion of the code was referenced from an exercise in DeepLearning AI's Sequence Models online course: https://www.coursera.org/learn/nlp-sequence-models/.  \n",
    "This project was inspired by the work of renowned practitioner and researcher Andrej Karpathy. You can find his code implementation here: https://gist.github.com/karpathy/d4dee566867f8291f086 and read more about \"The Unreasonable Effectiveness of Recurrent Neural Networks\" in his blog post: https://karpathy.github.io/2015/05/21/rnn-effectiveness/."
   ]
  },
  {
   "cell_type": "markdown",
   "id": "b37bd4ee",
   "metadata": {},
   "source": [
    "# 2. Load Packages and Modules\n",
    "This section imports various packages and modules that are required for the subsequent code.  \n",
    "The packages include `keras`, `numpy`, `random`, `sys`, and `io`.  \n",
    "These packages provide functionalities for handling neural networks, array manipulation, random number generation, system-specific operations, and input/output operations respectively."
   ]
  },
  {
   "cell_type": "code",
   "execution_count": 1,
   "id": "fc327779",
   "metadata": {},
   "outputs": [],
   "source": [
    "# Load Packages\n",
    "from __future__ import print_function\n",
    "\n",
    "# Import the required Keras modules\n",
    "from tensorflow.keras.callbacks import LambdaCallback, TensorBoard\n",
    "from tensorflow.keras.models import Model, load_model, Sequential\n",
    "from tensorflow.keras.layers import Dense, Activation, Dropout, Input, Masking\n",
    "from tensorflow.keras.layers import LSTM\n",
    "from tensorflow.keras.utils import get_file\n",
    "from tensorflow.keras.preprocessing.sequence import pad_sequences\n",
    "\n",
    "# Import numpy for array manipulation\n",
    "import numpy as np\n",
    "\n",
    "# Import random for generating random numbers\n",
    "import random\n",
    "\n",
    "# Import sys for system-specific parameters and functions\n",
    "import sys\n",
    "\n",
    "# Import io for input/output operations\n",
    "import io"
   ]
  },
  {
   "cell_type": "markdown",
   "id": "ba8b03c3",
   "metadata": {},
   "source": [
    "# 3. Input\n",
    "## 3.1 Define Functions and Input Variables"
   ]
  },
  {
   "cell_type": "code",
   "execution_count": 2,
   "id": "dbfdc342",
   "metadata": {},
   "outputs": [],
   "source": [
    "def build_data(text, Tx = 40, stride = 3):\n",
    "    \"\"\"\n",
    "    Create a training set by scanning a window of size Tx over the text corpus, with stride 3\n",
    "    \n",
    "    Arguments:\n",
    "    text -- string, corpus of text\n",
    "    Tx -- sequence length, number of time-steps (or characters) in one training example\n",
    "    stride -- how much the window shifts itself while scanning\n",
    "    \n",
    "    Returns:\n",
    "    X -- list of training examples\n",
    "    Y -- list of training labels\n",
    "    \"\"\"\n",
    "    \n",
    "    X = []\n",
    "    Y = []\n",
    "\n",
    "    for i in range(0, len(text) - Tx, stride):\n",
    "        X.append(text[i: i + Tx])\n",
    "        Y.append(text[i + Tx])\n",
    "    \n",
    "    print('Number of training examples:', len(X))\n",
    "    \n",
    "    return X, Y"
   ]
  },
  {
   "cell_type": "code",
   "execution_count": 3,
   "id": "babb4960",
   "metadata": {},
   "outputs": [],
   "source": [
    "def vectorization(X, Y, n_x, char_indices, Tx = 40):\n",
    "    \"\"\"\n",
    "    Convert X and Y (lists) into arrays to be given to a recurrent neural network\n",
    "    \n",
    "    Arguments:\n",
    "    X -- input characters\n",
    "    Y -- output character\n",
    "    Tx -- integer, sequence length\n",
    "    \n",
    "    Returns:\n",
    "    x -- array of shape (m, Tx, len(chars))\n",
    "    y -- array of shape (m, len(chars))\n",
    "    \"\"\"\n",
    "    \n",
    "    m = len(X)\n",
    "    x = np.zeros((m, Tx, n_x), dtype=bool) # x = np.zeros((m, Tx, n_x), dtype=np.bool) \n",
    "    y = np.zeros((m, n_x), dtype=bool)     # y = np.zeros((m, n_x), dtype=np.bool)\n",
    "    \n",
    "    for i, sentence in enumerate(X):\n",
    "        for t, char in enumerate(sentence):\n",
    "            x[i, t, char_indices[char]] = 1\n",
    "        y[i, char_indices[Y[i]]] = 1\n",
    "        \n",
    "    return x, y "
   ]
  },
  {
   "cell_type": "code",
   "execution_count": 4,
   "id": "427cb034-16e4-4b62-b7af-7678d844c9b5",
   "metadata": {},
   "outputs": [],
   "source": [
    "# Set the length of the sequences for training\n",
    "Tx = 40"
   ]
  },
  {
   "cell_type": "markdown",
   "id": "a2fb881b",
   "metadata": {},
   "source": [
    "## 3.2 Input data processing\n",
    "\n",
    "The text file was prepared using the Actuarial Standards Board's Actuarial Standards of Practice documents.  \n",
    "The PDF library of ASOPs was downloaded as of December 2023 from the following link:  \n",
    "http://www.actuarialstandardsboard.org/wp-content/uploads/2023/12/ASOPs-as-of-Decemeber-2023.zip"
   ]
  },
  {
   "cell_type": "code",
   "execution_count": 5,
   "id": "050250be",
   "metadata": {},
   "outputs": [
    {
     "name": "stdout",
     "output_type": "stream",
     "text": [
      "Loading text data...\n",
      "Corpus length: 806201\n"
     ]
    }
   ],
   "source": [
    "print(\"Loading text data...\")\n",
    "\n",
    "# Read the text file and store its contents in the variable 'text'\n",
    "# The text source file has been converted from multiple pdfs to one text file\n",
    "text = io.open('../data/combined_text_life.txt', encoding='utf-8').read().lower()\n",
    "\n",
    "# Print the length of the text (number of characters)\n",
    "print('Corpus length:', len(text))"
   ]
  },
  {
   "cell_type": "code",
   "execution_count": 6,
   "id": "850650ad",
   "metadata": {},
   "outputs": [
    {
     "name": "stdout",
     "output_type": "stream",
     "text": [
      "Unique characters in the corpus: ['\\n', ' ', '#', '$', '%', '&', \"'\", '(', ')', ',', '-', '.', '/', '0', '1', '2', '3', '4', '5', '6', '7', '8', '9', ':', ';', '?', '[', ']', 'a', 'b', 'c', 'd', 'e', 'f', 'g', 'h', 'i', 'j', 'k', 'l', 'm', 'n', 'o', 'p', 'q', 'r', 's', 't', 'u', 'v', 'w', 'x', 'y', 'z', '\\xa0', 'ω', '‐', '–', '—', '‘', '’', '“', '”', '•', '…', '⎯', '\\uf0b7', '\\uf0be', '\\uf8e7']\n",
      "Number of unique characters: 69  \n",
      "\n",
      "Creating training set...\n",
      "Number of training examples: 268721\n",
      " \n",
      "Vectorizing training set...\n",
      "Data processing done\n"
     ]
    }
   ],
   "source": [
    "# Create a list of unique characters in the 'text' variable and sort them\n",
    "chars = sorted(list(set(text)))\n",
    "\n",
    "# Create a dictionary that maps each character to its index in the 'chars' list\n",
    "char_indices = dict((c, i) for i, c in enumerate(chars))\n",
    "\n",
    "# Create a dictionary that maps each index to its corresponding character in the 'chars' list\n",
    "indices_char = dict((i, c) for i, c in enumerate(chars))\n",
    "\n",
    "# Print unique characters in the corpus and the number of them\n",
    "print('Unique characters in the corpus:', chars)\n",
    "print('Number of unique characters:', len(chars), ' \\n')\n",
    "\n",
    "# Print a message indicating the creation of the training set\n",
    "print(\"Creating training set...\")\n",
    "\n",
    "# Build the training data by dividing the 'text' into sequences of length Tx with a stride of 3\n",
    "X, Y = build_data(text, Tx, stride=3)\n",
    "\n",
    "# Print a message indicating the vectorization of the training set\n",
    "print(\" \\nVectorizing training set...\")\n",
    "\n",
    "# Convert the training data into numerical vectors using one-hot encoding\n",
    "x, y = vectorization(X, Y, n_x=len(chars), char_indices=char_indices) \n",
    "\n",
    "print(\"Data processing done\")"
   ]
  },
  {
   "cell_type": "code",
   "execution_count": 7,
   "id": "df0de05a",
   "metadata": {},
   "outputs": [
    {
     "name": "stdout",
     "output_type": "stream",
     "text": [
      "First 2 elements of X: ['uarial opinion based on asset adequacy a', 'ial opinion based on asset adequacy anal']\n",
      "First 2 elements of Y: ['n', 'y']\n"
     ]
    }
   ],
   "source": [
    "# Review two examples of X and Y datasets starting from index 1000\n",
    "print(\"First 2 elements of X:\", X[1000:1002])\n",
    "print(\"First 2 elements of Y:\", Y[1000:1002])"
   ]
  },
  {
   "attachments": {
    "9b3dc834-fa29-4f46-8a35-06b067056bd5.png": {
     "image/png": "[encoded data removed]"
    }
   },
   "cell_type": "markdown",
   "id": "f302aa79",
   "metadata": {},
   "source": [
    "# 4. Model\n",
    "The model structure is based on what Karpathy noted in his blog as follows:  \n",
    "*... we get approximately 1MB text file, or about 1 million characters (this is considered a very small dataset by the way).\n",
    "Technical: Lets train a 2-layer LSTM with 512 hidden nodes (approx. 3.5 million parameters), and with dropout of 0.5 after each layer.\n",
    "We’ll train with batches of 100 examples and truncated backpropagation through time of length 100 characters. With these settings one batch on a TITAN Z GPU takes about 0.46 seconds (this can be cut in half with 50 character BPTT at negligible cost in performance).*\n",
    "\n",
    "## 4.1 Recurrent Neural Network Structure\n",
    "![RNN_structure.png](attachment:9b3dc834-fa29-4f46-8a35-06b067056bd5.png)\n",
    "\n",
    "### LSTM (Long Short-Term Memory)\n",
    "- Tx (sequence length) = 40 \n",
    "- n_x (input size) = 69 (or len(char))\n",
    "- n_a (hidden unit size) = 512 (for each LSTM layer)\n",
    "- Number of parameters = 4 * ((n_x + n_a) * n_a + n_a)\n",
    "    - 4 is multiplied due to three gates and one tanh in the LSTM structure\n",
    "### Dense layer\n",
    "- n_x (input size) = 512 \n",
    "- n_y (output size) = 69\n",
    "- Number of parameters = n_x * n_y + n_y "
   ]
  },
  {
   "cell_type": "markdown",
   "id": "e8a2ddf1-1a57-439d-9fe8-0eb4632942ac",
   "metadata": {},
   "source": [
    "## 4.2 Model Build"
   ]
  },
  {
   "cell_type": "code",
   "execution_count": 8,
   "id": "42b19271",
   "metadata": {},
   "outputs": [
    {
     "data": {
      "text/plain": [
       "' Uncomment if a model will be trained from scratch\\n## Commented out as we will be loading the model from the pre-trained version\\n\\nprint(\"Building the model...\")\\n\\n# Create a Sequential model\\nmodel = Sequential()\\n\\n# Add an LSTM layer with 512 units and input shape of (Tx, len(chars))\\nmodel.add(LSTM(512, input_shape=(Tx, len(chars)), return_sequences=True))\\n\\n# Add a dropout layer with a rate of 0.5\\nmodel.add(Dropout(0.5))\\n\\n# Add another LSTM layer with 512 units\\nmodel.add(LSTM(512))\\n\\n# Add another dropout layer with a rate of 0.5\\nmodel.add(Dropout(0.5))\\n\\n# Add a Dense layer with a number of units equal to the number of unique characters (len(chars))\\n# and use the softmax activation function\\nmodel.add(Dense(len(chars), activation=\\'softmax\\'))\\n\\n# Compile the model with the categorical cross-entropy loss function and the Adam optimizer\\nmodel.compile(loss=\\'categorical_crossentropy\\', optimizer=\\'adam\\')\\n'"
      ]
     },
     "execution_count": 8,
     "metadata": {},
     "output_type": "execute_result"
    }
   ],
   "source": [
    "\"\"\" Uncomment if a model will be trained from scratch\n",
    "## Commented out as we will be loading the model from the pre-trained version\n",
    "\n",
    "print(\"Building the model...\")\n",
    "\n",
    "# Create a Sequential model\n",
    "model = Sequential()\n",
    "\n",
    "# Add an LSTM layer with 512 units and input shape of (Tx, len(chars))\n",
    "model.add(LSTM(512, input_shape=(Tx, len(chars)), return_sequences=True))\n",
    "\n",
    "# Add a dropout layer with a rate of 0.5\n",
    "model.add(Dropout(0.5))\n",
    "\n",
    "# Add another LSTM layer with 512 units\n",
    "model.add(LSTM(512))\n",
    "\n",
    "# Add another dropout layer with a rate of 0.5\n",
    "model.add(Dropout(0.5))\n",
    "\n",
    "# Add a Dense layer with a number of units equal to the number of unique characters (len(chars))\n",
    "# and use the softmax activation function\n",
    "model.add(Dense(len(chars), activation='softmax'))\n",
    "\n",
    "# Compile the model with the categorical cross-entropy loss function and the Adam optimizer\n",
    "model.compile(loss='categorical_crossentropy', optimizer='adam')\n",
    "\"\"\"\n"
   ]
  },
  {
   "cell_type": "code",
   "execution_count": 9,
   "id": "638c73cc",
   "metadata": {
    "scrolled": true
   },
   "outputs": [
    {
     "data": {
      "text/plain": [
       "\"Uncomment if a model will be trained from scratch\\n## Commented out as we will be loading the model from the pre-trained version\\n\\n# Define a lambda function to be called at the end of each epoch\\non_epoch_end = lambda epoch, logs: print(f'Epoch {epoch} finished.')\\n\\n# Create a LambdaCallback to execute the on_epoch_end function\\nprint_callback = LambdaCallback(on_epoch_end=on_epoch_end)\\n\\n# Create a TensorBoard callback to log training progress\\ntensorboard_callback = TensorBoard(log_dir='./logs')\\n\\n# Fit the model to the data\\n# Change the number of epochs once a model test train is performed\\nmodel.fit(x, y, batch_size=128, epochs=1, callbacks=[print_callback, tensorboard_callback])\\n\""
      ]
     },
     "execution_count": 9,
     "metadata": {},
     "output_type": "execute_result"
    }
   ],
   "source": [
    "'''Uncomment if a model will be trained from scratch or fit from a loaded model\n",
    "## Commented out as we will be loading the model from the pre-trained version\n",
    "\n",
    "# Define a lambda function to be called at the end of each epoch\n",
    "on_epoch_end = lambda epoch, logs: print(f'Epoch {epoch} finished.')\n",
    "\n",
    "# Create a LambdaCallback to execute the on_epoch_end function\n",
    "print_callback = LambdaCallback(on_epoch_end=on_epoch_end)\n",
    "\n",
    "# Create a TensorBoard callback to log training progress\n",
    "tensorboard_callback = TensorBoard(log_dir='./logs')\n",
    "\n",
    "# Fit the model to the data\n",
    "# Change the number of epochs once a model test train is performed\n",
    "model.fit(x, y, batch_size=128, epochs=1, callbacks=[print_callback, tensorboard_callback])\n",
    "'''"
   ]
  },
  {
   "cell_type": "markdown",
   "id": "0e861a45",
   "metadata": {},
   "source": [
    "To read the log from the tensorboard_callback, you can follow these steps:\n",
    "\n",
    "1. Open a terminal or command prompt and navigate to the directory where your TensorBoard logs are stored (in this case, it is './logs').\n",
    "2. Run the following command to start TensorBoard: `tensorboard --logdir ./logs`\n",
    "3. Go to http://localhost:6006/\n",
    "4. Once TensorBoard starts, you can view the logs by clicking on \"Events\" in the left sidebar and then selecting \"Scalar\". This will display a graph of your training metrics over time. You can also explore other tabs like \"Images\", \"Audio\", etc., to see different types of visualizations for your model's performance during training.\n",
    "5. To export the logs as a CSV file, click on the three-dot menu in the top right corner and select \"Export Data\". Choose \"CSV\" as the format and save it to a desired location. You can then open this CSV file using any spreadsheet software like Microsoft Excel or Google Sheets for further analysis."
   ]
  },
  {
   "cell_type": "code",
   "execution_count": 10,
   "id": "4efed5df",
   "metadata": {},
   "outputs": [],
   "source": [
    "# Save the model once built\n",
    "## Commented out as we will be loading the model from the pre-trained version\n",
    "#model.summary()\n",
    "#model.save('../model/Life_ASOP_rnn_model001.keras')  #rename as needed"
   ]
  },
  {
   "cell_type": "markdown",
   "id": "654eb1f5-d17d-4528-95a7-1ec7a49db60f",
   "metadata": {},
   "source": [
    "## 4.3 Pre-trained Model Load"
   ]
  },
  {
   "cell_type": "code",
   "execution_count": 2,
   "id": "f8ebd761",
   "metadata": {},
   "outputs": [],
   "source": [
    "## Skip this section if a model is built in the prior section\n",
    "# Load the model\n",
    "model = load_model('../model/Life_ASOP_rnn_model021.keras')"
   ]
  },
  {
   "cell_type": "code",
   "execution_count": 12,
   "id": "8db11053",
   "metadata": {},
   "outputs": [
    {
     "name": "stdout",
     "output_type": "stream",
     "text": [
      "Model: \"sequential_4\"\n",
      "_________________________________________________________________\n",
      " Layer (type)                Output Shape              Param #   \n",
      "=================================================================\n",
      " lstm_8 (LSTM)               (None, 40, 512)           1191936   \n",
      "                                                                 \n",
      " dropout_8 (Dropout)         (None, 40, 512)           0         \n",
      "                                                                 \n",
      " lstm_9 (LSTM)               (None, 512)               2099200   \n",
      "                                                                 \n",
      " dropout_9 (Dropout)         (None, 512)               0         \n",
      "                                                                 \n",
      " dense_4 (Dense)             (None, 69)                35397     \n",
      "                                                                 \n",
      "=================================================================\n",
      "Total params: 3326533 (12.69 MB)\n",
      "Trainable params: 3326533 (12.69 MB)\n",
      "Non-trainable params: 0 (0.00 Byte)\n",
      "_________________________________________________________________\n"
     ]
    }
   ],
   "source": [
    "model.summary()"
   ]
  },
  {
   "cell_type": "markdown",
   "id": "d838e283",
   "metadata": {},
   "source": [
    "# 5. Output\n",
    "## 5.1 Define Functions"
   ]
  },
  {
   "cell_type": "code",
   "execution_count": 13,
   "id": "cf3f6aca-ef8f-4c25-b4d5-e3c5ead37a3f",
   "metadata": {},
   "outputs": [],
   "source": [
    "def sample(preds, temperature=1.0):\n",
    "    \"\"\"\n",
    "    Helper function to sample an index from a probability array.\n",
    "\n",
    "    Arguments:\n",
    "    preds (list): The input probability array.\n",
    "    temperature (float): Controls the randomness of the sampling. Higher values make the sampling more random.\n",
    "\n",
    "    Returns:\n",
    "    int: The sampled index.\n",
    "    \"\"\"\n",
    "    \n",
    "    preds = np.asarray(preds).astype('float64')\n",
    "\n",
    "    # Apply logarithm to the probability array (temperature being zero will get an error)\n",
    "    preds = np.log(preds) / max(temperature, 0.000001)\n",
    "    exp_preds = np.exp(preds)\n",
    "\n",
    "    # Apply softmax to normalize the array\n",
    "    preds = exp_preds / np.sum(exp_preds) \n",
    "\n",
    "    # Use the softmax probabilities to perform multinomial sampling\n",
    "    probas = np.random.multinomial(1, preds, 1)\n",
    "\n",
    "    # Get the sampled index using the probabilities\n",
    "    out = np.random.choice(range(len(chars)), p = probas.ravel())\n",
    "    return out\n"
   ]
  },
  {
   "cell_type": "code",
   "execution_count": 14,
   "id": "90c02f38",
   "metadata": {},
   "outputs": [],
   "source": [
    "def generate_output(temperature = 1.0, ASOP_length = 500):\n",
    "    \"\"\"\n",
    "    Generates an ASOP based on user input.\n",
    "    \n",
    "    Arguments:\n",
    "    - temperature (float): Controls the randomness of the generated output. Higher values result in more randomness.\n",
    "    - ASOP_length (int): The desired length of the generated ASOP in characters.\n",
    "    \n",
    "    Returns:\n",
    "    - generated (str): The generated ASOP string.\n",
    "    \"\"\"\n",
    "    \n",
    "    generated = '' # Initializes an empty string\n",
    "\n",
    "    usr_input = input(\"Write the beginning of your ASOP, the ASOP language model will complete it. Your input is: \")\n",
    "    \n",
    "    sentence = ('{0:0>' + str(Tx) + '}').format(usr_input).lower() # Zero pad the input sentence to make length Tx\n",
    "    generated += usr_input \n",
    "\n",
    "    sys.stdout.write(\"\\n\\nHere is your ASOP: \\n\\n\") \n",
    "    sys.stdout.write(usr_input)\n",
    "    for i in range(ASOP_length):\n",
    "\n",
    "        x_pred = np.zeros((1, Tx, len(chars))) # Initialize NumPy array with zeros. len(chars) = 69\n",
    "\n",
    "        for t, char in enumerate(sentence): # Iterates over each character in the current sentence\n",
    "            if char != '0':\n",
    "                x_pred[0, t, char_indices[char]] = 1. # One-hot coding the sentence\n",
    "\n",
    "        preds = model.predict(x_pred, verbose=0)[0] # Get next character's probability distribution (softmax)\n",
    "        next_index = sample(preds, temperature = temperature) # Sample an index from the distribution out of len(chars)\n",
    "        next_char = indices_char[next_index] # Convert index to character\n",
    "\n",
    "        generated += next_char \n",
    "        \n",
    "        # Updates the sentence by removing its first character \n",
    "        # and appending the newly generated character, maintaining a fixed length of Tx.        \n",
    "        sentence = sentence[1:] + next_char \n",
    "\n",
    "        sys.stdout.write(next_char)\n",
    "        sys.stdout.flush()\n",
    "\n",
    "        if next_char == '\\n':\n",
    "            continue"
   ]
  },
  {
   "cell_type": "markdown",
   "id": "e0834110-ea7e-46f1-a770-fad1c27e1ece",
   "metadata": {},
   "source": [
    "## 5.2 Generate ASOP"
   ]
  },
  {
   "cell_type": "code",
   "execution_count": 15,
   "id": "abf34ed1",
   "metadata": {},
   "outputs": [
    {
     "name": "stdin",
     "output_type": "stream",
     "text": [
      "Write the beginning of your ASOP, the ASOP language model will complete it. Your input is:  ASOP No. 999\n"
     ]
    },
    {
     "name": "stdout",
     "output_type": "stream",
     "text": [
      "\n",
      "\n",
      "Here is your ASOP: \n",
      "\n",
      "ASOP No. 999, allocation procedures were revised to ma vi a calemution consistent with \n",
      "underwriting class, as (the actuary may reflect the being the valuation manual  of the determination of dividends, the actuary should refer to asop no. 16, 14, 20, 2.11, \n",
      " \n",
      "20in 4.1.2, the cash flow analysis 2 2.6 product design  \n",
      "comment  \n",
      "  \n",
      " \n",
      "response one commentator suggested clarifying the language are undedlying the assumptions, \n",
      "or examples is asset adequacy analysis is is \n",
      "appropriate for the cash flows are provided for life \n",
      "expectancy credit, dividends: \n",
      " \n",
      "a. present value of the intended purpose and intended"
     ]
    }
   ],
   "source": [
    "# Let's generate ASOP!\n",
    "generate_output(temperature = 1.0, ASOP_length = 600)"
   ]
  }
 ],
 "metadata": {
  "kernelspec": {
   "display_name": "Python 3 (ipykernel)",
   "language": "python",
   "name": "python3"
  },
  "language_info": {
   "codemirror_mode": {
    "name": "ipython",
    "version": 3
   },
   "file_extension": ".py",
   "mimetype": "text/x-python",
   "name": "python",
   "nbconvert_exporter": "python",
   "pygments_lexer": "ipython3",
   "version": "3.11.5"
  }
 },
 "nbformat": 4,
 "nbformat_minor": 5
}
